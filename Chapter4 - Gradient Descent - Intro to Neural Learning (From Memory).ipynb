{
 "cells": [
  {
   "cell_type": "markdown",
   "source": [
    "# Gradient Descent in Neural Networks (from Memory)"
   ],
   "metadata": {
    "collapsed": false,
    "pycharm": {
     "name": "#%% md\n"
    }
   }
  },
  {
   "cell_type": "code",
   "execution_count": 28,
   "outputs": [
    {
     "name": "stdout",
     "output_type": "stream",
     "text": [
      "Ideal Prediction: 0.5 - Current Prediction: -38.4 - Error: 1513.2099999999998\n",
      "Ideal Prediction: 0.5 - Current Prediction: 25.333760000000005 - Error: 616.7156357376002\n",
      "Ideal Prediction: 0.5 - Current Prediction: -15.353872384000006 - Error: 251.34526956815805\n",
      "Ideal Prediction: 0.5 - Current Prediction: 10.621112129945605 - Error: 102.43691074693206\n",
      "Ideal Prediction: 0.5 - Current Prediction: -5.961317983757276 - Error: 41.74863008722519\n",
      "Ideal Prediction: 0.5 - Current Prediction: 4.624905400830645 - Error: 17.014844565801827\n",
      "Ideal Prediction: 0.5 - Current Prediction: -2.133339607890284 - Error: 6.934477490483756\n",
      "Ideal Prediction: 0.5 - Current Prediction: 2.181124005677158 - Error: 2.8261779224640127\n",
      "Ideal Prediction: 0.5 - Current Prediction: -0.5732295652242976 - Error: 1.151821699671535\n",
      "Ideal Prediction: 0.5 - Current Prediction: 1.1851497544391916 - Error: 0.4694301860080845\n",
      "Ideal Prediction: 0.5 - Current Prediction: 0.06260039676602003 - Error: 0.1913184129092431\n",
      "Ideal Prediction: 0.5 - Current Prediction: 0.7792359067045729 - Error: 0.07797269159312493\n",
      "Ideal Prediction: 0.5 - Current Prediction: 0.32173579715980066 - Error: 0.031778126014251735\n",
      "Ideal Prediction: 0.5 - Current Prediction: 0.6138038670931834 - Error: 0.012951320165362941\n",
      "Ideal Prediction: 0.5 - Current Prediction: 0.4273476112477117 - Error: 0.005278369591413627\n",
      "Ideal Prediction: 0.5 - Current Prediction: 0.5463812849794608 - Error: 0.0021512235963459573\n",
      "Ideal Prediction: 0.5 - Current Prediction: 0.4703901876691122 - Error: 0.0008767409862703937\n",
      "Ideal Prediction: 0.5 - Current Prediction: 0.5189029041920388 - Error: 0.000357319786893397\n",
      "Ideal Prediction: 0.5 - Current Prediction: 0.48793238596380245 - Error: 0.0001456273085266321\n",
      "Ideal Prediction: 0.5 - Current Prediction: 0.5077039648007086 - Error: 5.935107365055652e-05\n",
      "Ideal Prediction: 0.5 - Current Prediction: 0.49508178887122767 - Error: 2.4188800707180013e-05\n",
      "Ideal Prediction: 0.5 - Current Prediction: 0.5031397859846083 - Error: 9.858256029142648e-06\n",
      "Ideal Prediction: 0.5 - Current Prediction: 0.49799556062742606 - Error: 4.017777198324613e-06\n",
      "Ideal Prediction: 0.5 - Current Prediction: 0.5012796340954512 - Error: 1.6374634182411506e-06\n",
      "Ideal Prediction: 0.5 - Current Prediction: 0.499183081593464 - Error: 6.673556829373613e-07\n",
      "Ideal Prediction: 0.5 - Current Prediction: 0.5005215207107326 - Error: 2.719838517230748e-07\n",
      "Ideal Prediction: 0.5 - Current Prediction: 0.49966706117826826 - Error: 1.1084825901612138e-07\n",
      "Ideal Prediction: 0.5 - Current Prediction: 0.5002125481437936 - Error: 4.517671343009093e-08\n",
      "Ideal Prediction: 0.5 - Current Prediction: 0.4998643092650022 - Error: 1.8411975564244945e-08\n",
      "Ideal Prediction: 0.5 - Current Prediction: 0.5000866249652226 - Error: 7.503884599817293e-09\n",
      "Ideal Prediction: 0.5 - Current Prediction: 0.49994469862220187 - Error: 3.058242386371916e-09\n",
      "Ideal Prediction: 0.5 - Current Prediction: 0.5000353043995863 - Error: 1.246400630150711e-09\n",
      "Ideal Prediction: 0.5 - Current Prediction: 0.4999774616713041 - Error: 5.079762604053402e-10\n",
      "Ideal Prediction: 0.5 - Current Prediction: 0.5000143884690395 - Error: 2.07028041299218e-10\n",
      "Ideal Prediction: 0.5 - Current Prediction: 0.4999908144013652 - Error: 8.437522227919003e-11\n",
      "Ideal Prediction: 0.5 - Current Prediction: 0.5000058640861684 - Error: 3.4387506590746446e-11\n",
      "Ideal Prediction: 0.5 - Current Prediction: 0.4999962563673901 - Error: 1.4014785117977047e-11\n",
      "Ideal Prediction: 0.5 - Current Prediction: 0.5000023899350582 - Error: 5.711789582361214e-12\n",
      "Ideal Prediction: 0.5 - Current Prediction: 0.49999847426545885 - Error: 2.3278658900653596e-12\n",
      "Ideal Prediction: 0.5 - Current Prediction: 0.5000009740289311 - Error: 9.487323585549068e-13\n",
      "Ideal Prediction: 0.5 - Current Prediction: 0.4999993781799304 - Error: 3.8666019895954255e-13\n",
      "Ideal Prediction: 0.5 - Current Prediction: 0.5000003969699325 - Error: 1.575851272941949e-13\n",
      "Ideal Prediction: 0.5 - Current Prediction: 0.4999997465743951 - Error: 6.422453721400346e-14\n",
      "Ideal Prediction: 0.5 - Current Prediction: 0.5000001617869062 - Error: 2.617500301951024e-14\n",
      "Ideal Prediction: 0.5 - Current Prediction: 0.4999998967152391 - Error: 1.0667741836358479e-14\n",
      "Ideal Prediction: 0.5 - Current Prediction: 0.5000000659369913 - Error: 4.347686823201025e-15\n",
      "Ideal Prediction: 0.5 - Current Prediction: 0.49999995790582474 - Error: 1.7719195905316338e-15\n",
      "Ideal Prediction: 0.5 - Current Prediction: 0.5000000268729214 - Error: 7.221539069168376e-16\n",
      "Ideal Prediction: 0.5 - Current Prediction: 0.49999998284432695 - Error: 2.943171177583456e-16\n",
      "Ideal Prediction: 0.5 - Current Prediction: 0.5000000109521817 - Error: 1.199502843642554e-16\n",
      "Ideal Prediction: 0.5 - Current Prediction: 0.4999999930081272 - Error: 4.888628529267062e-17\n",
      "Ideal Prediction: 0.5 - Current Prediction: 0.5000000044636116 - Error: 1.9923828439364768e-17\n",
      "Ideal Prediction: 0.5 - Current Prediction: 0.49999999715043036 - Error: 8.120047109330088e-18\n",
      "Ideal Prediction: 0.5 - Current Prediction: 0.5000000018191653 - Error: 3.309362253643635e-18\n",
      "Ideal Prediction: 0.5 - Current Prediction: 0.4999999988386449 - Error: 1.348745722137328e-18\n",
      "Ideal Prediction: 0.5 - Current Prediction: 0.5000000007414092 - Error: 5.496875370317303e-19\n",
      "Ideal Prediction: 0.5 - Current Prediction: 0.4999999995266844 - Error: 2.240276656555602e-19\n",
      "Ideal Prediction: 0.5 - Current Prediction: 0.5000000003021647 - Error: 9.13035286945191e-20\n",
      "Ideal Prediction: 0.5 - Current Prediction: 0.49999999980709803 - Error: 3.7211170868459316e-20\n",
      "Ideal Prediction: 0.5 - Current Prediction: 0.5000000001231486 - Error: 1.5165578279644856e-20\n",
      "Ideal Prediction: 0.5 - Current Prediction: 0.49999999992138194 - Error: 6.180798809303815e-21\n",
      "Ideal Prediction: 0.5 - Current Prediction: 0.5000000000501897 - Error: 2.5190101269353817e-21\n",
      "Ideal Prediction: 0.5 - Current Prediction: 0.49999999996795885 - Error: 1.0266351339488315e-21\n",
      "Ideal Prediction: 0.5 - Current Prediction: 0.5000000000204551 - Error: 4.1841038259685393e-22\n",
      "Ideal Prediction: 0.5 - Current Prediction: 0.4999999999869415 - Error: 1.705243889976367e-22\n",
      "Ideal Prediction: 0.5 - Current Prediction: 0.5000000000083366 - Error: 6.949812708625191e-23\n",
      "Ideal Prediction: 0.5 - Current Prediction: 0.4999999999946779 - Error: 2.8324494154115115e-23\n",
      "Ideal Prediction: 0.5 - Current Prediction: 0.5000000000033976 - Error: 1.1543791237104583e-23\n",
      "Ideal Prediction: 0.5 - Current Prediction: 0.49999999999783096 - Error: 4.704746335110983e-24\n",
      "Ideal Prediction: 0.5 - Current Prediction: 0.5000000000013847 - Error: 1.91731144178247e-24\n",
      "Ideal Prediction: 0.5 - Current Prediction: 0.49999999999911604 - Error: 7.813845252955862e-25\n",
      "Ideal Prediction: 0.5 - Current Prediction: 0.5000000000005643 - Error: 3.184642444474188e-25\n",
      "Ideal Prediction: 0.5 - Current Prediction: 0.49999999999963973 - Error: 1.297925789609357e-25\n",
      "Ideal Prediction: 0.5 - Current Prediction: 0.50000000000023 - Error: 5.291757838313069e-26\n",
      "Ideal Prediction: 0.5 - Current Prediction: 0.4999999999998531 - Error: 2.1574470615227943e-26\n",
      "Ideal Prediction: 0.5 - Current Prediction: 0.5000000000000938 - Error: 8.801037622663015e-27\n",
      "Ideal Prediction: 0.5 - Current Prediction: 0.4999999999999401 - Error: 3.587594567013344e-27\n",
      "Ideal Prediction: 0.5 - Current Prediction: 0.5000000000000382 - Error: 1.4586038137536508e-27\n",
      "Ideal Prediction: 0.5 - Current Prediction: 0.49999999999997563 - Error: 5.93867431699604e-28\n",
      "Ideal Prediction: 0.5 - Current Prediction: 0.5000000000000155 - Error: 2.4158865222393487e-28\n",
      "Ideal Prediction: 0.5 - Current Prediction: 0.49999999999999006 - Error: 9.873395415697828e-29\n",
      "Ideal Prediction: 0.5 - Current Prediction: 0.5000000000000063 - Error: 4.004701689161043e-29\n",
      "Ideal Prediction: 0.5 - Current Prediction: 0.49999999999999595 - Error: 1.6421249077823328e-29\n",
      "Ideal Prediction: 0.5 - Current Prediction: 0.5000000000000026 - Error: 6.520428419717426e-30\n",
      "Ideal Prediction: 0.5 - Current Prediction: 0.4999999999999984 - Error: 2.5915313331674646e-30\n",
      "Ideal Prediction: 0.5 - Current Prediction: 0.500000000000001 - Error: 9.98402083170343e-31\n",
      "Ideal Prediction: 0.5 - Current Prediction: 0.4999999999999994 - Error: 3.7286003723336886e-31\n",
      "Ideal Prediction: 0.5 - Current Prediction: 0.5000000000000004 - Error: 1.9721522630525295e-31\n",
      "Ideal Prediction: 0.5 - Current Prediction: 0.4999999999999997 - Error: 7.703719777548943e-32\n",
      "Ideal Prediction: 0.5 - Current Prediction: 0.5000000000000002 - Error: 4.930380657631324e-32\n",
      "Ideal Prediction: 0.5 - Current Prediction: 0.49999999999999983 - Error: 2.7733391199176196e-32\n",
      "Ideal Prediction: 0.5 - Current Prediction: 0.5000000000000001 - Error: 1.232595164407831e-32\n",
      "Ideal Prediction: 0.5 - Current Prediction: 0.49999999999999994 - Error: 3.0814879110195774e-33\n",
      "Ideal Prediction: 0.5 - Current Prediction: 0.5 - Error: 0.0\n",
      "Ideal Prediction: 0.5 - Current Prediction: 0.5 - Error: 0.0\n",
      "Ideal Prediction: 0.5 - Current Prediction: 0.5 - Error: 0.0\n",
      "Ideal Prediction: 0.5 - Current Prediction: 0.5 - Error: 0.0\n",
      "Ideal Prediction: 0.5 - Current Prediction: 0.5 - Error: 0.0\n",
      "Ideal Prediction: 0.5 - Current Prediction: 0.5 - Error: 0.0\n",
      "Ideal Prediction: 0.5 - Current Prediction: 0.5 - Error: 0.0\n"
     ]
    }
   ],
   "source": [
    "input = -128.0\n",
    "weight = 0.3\n",
    "goal_pred = 0.5\n",
    "alpha = 0.0001\n",
    "error = 0\n",
    "num_of_epochs = 100\n",
    "\n",
    "for epoch in range(num_of_epochs):\n",
    "    pred = input * weight\n",
    "    pred_diff = pred - goal_pred\n",
    "    error = pred_diff ** 2\n",
    "    derivative = pred_diff * input\n",
    "    weight -= (alpha * derivative)\n",
    "    print('Ideal Prediction: ' + str(goal_pred) + ' - Current Prediction: ' + str(pred) + ' - Error: ' + str(error))"
   ],
   "metadata": {
    "collapsed": false,
    "pycharm": {
     "name": "#%%\n"
    }
   }
  },
  {
   "cell_type": "markdown",
   "source": [],
   "metadata": {
    "collapsed": false,
    "pycharm": {
     "name": "#%% md"
    }
   }
  }
 ],
 "metadata": {
  "kernelspec": {
   "name": "pycharm-72c7a56d",
   "language": "python",
   "display_name": "PyCharm (MelNet)"
  },
  "language_info": {
   "codemirror_mode": {
    "name": "ipython",
    "version": 3
   },
   "file_extension": ".py",
   "mimetype": "text/x-python",
   "name": "python",
   "nbconvert_exporter": "python",
   "pygments_lexer": "ipython3",
   "version": "3.6.1"
  }
 },
 "nbformat": 4,
 "nbformat_minor": 2
}