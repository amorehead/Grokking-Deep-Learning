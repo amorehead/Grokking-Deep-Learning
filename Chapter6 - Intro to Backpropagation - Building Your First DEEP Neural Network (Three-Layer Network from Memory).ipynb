{
 "cells": [
  {
   "cell_type": "markdown",
   "metadata": {},
   "source": [
    "# A three-layer neural network from scratch"
   ]
  },
  {
   "cell_type": "code",
   "execution_count": 74,
   "outputs": [],
   "source": [
    "import numpy as np\n",
    "\n",
    "np.random.seed(1)"
   ],
   "metadata": {
    "collapsed": false,
    "pycharm": {
     "name": "#%%\n"
    }
   }
  },
  {
   "cell_type": "code",
   "execution_count": 75,
   "outputs": [],
   "source": [
    "features = np.array([[1, 0, 1],\n",
    "                  [0, 1, 0],\n",
    "                  [1, 1, 0],\n",
    "                  [0, 1, 1],\n",
    "                  [1, 1, 1],\n",
    "                  [1, 0, 0]])\n",
    "labels = np.array([0, 1, 1, 1, 1, 0])\n",
    "\n",
    "alpha = 0.25\n",
    "num_of_epochs = 50\n",
    "num_of_inputs = features[0].size\n",
    "hidden_size = 5\n",
    "num_of_outputs = labels[0].size\n",
    "\n",
    "weights_0_1 = 2 * np.random.random((num_of_inputs, hidden_size)) - 1\n",
    "weights_1_2 = 2 * np.random.random((hidden_size, num_of_outputs)) - 1\n",
    "\n",
    "current_prediction = 0"
   ],
   "metadata": {
    "collapsed": false,
    "pycharm": {
     "name": "#%%\n"
    }
   }
  },
  {
   "cell_type": "code",
   "execution_count": 76,
   "outputs": [],
   "source": [
    "def relu(x):\n",
    "    return (x > 0) * x\n",
    "\n",
    "def relu_to_deriv(output):\n",
    "    return output > 0"
   ],
   "metadata": {
    "collapsed": false,
    "pycharm": {
     "name": "#%%\n"
    }
   }
  },
  {
   "cell_type": "code",
   "execution_count": 77,
   "outputs": [
    {
     "name": "stdout",
     "output_type": "stream",
     "text": [
      "Prediction: 0.03810523599117996\n",
      "\n",
      "Current Error: 3.9892895133620816\n",
      "\n",
      "Prediction: 0.33382549910994663\n",
      "\n",
      "Current Error: 2.3701460856955543\n",
      "\n",
      "Prediction: 0.0\n",
      "\n",
      "Current Error: 0.004940089477713566\n",
      "\n",
      "Prediction: 0.0\n",
      "\n",
      "Current Error: 5.213132594168388e-06\n",
      "\n",
      "Prediction: 0.0\n",
      "\n",
      "Current Error: 1.5152040516888034e-08\n",
      "\n"
     ]
    }
   ],
   "source": [
    "for epoch in range(num_of_epochs):\n",
    "    layer_2_error = 0\n",
    "    for i in range(len(features)):\n",
    "        layer_0 = features[i:i + 1]\n",
    "        layer_1 = relu(np.dot(layer_0, weights_0_1))\n",
    "        layer_2 = np.dot(layer_1, weights_1_2)\n",
    "\n",
    "        current_prediction = layer_2[0][0]\n",
    "\n",
    "        layer_2_delta = (layer_2 - labels[i:i + 1])\n",
    "        layer_2_error += np.sum(layer_2_delta ** 2)\n",
    "\n",
    "        layer_1_delta = np.dot(layer_2_delta, weights_1_2.T) * relu_to_deriv(layer_1)\n",
    "\n",
    "        weights_1_2 -= alpha * np.dot(layer_1.T, layer_2_delta)\n",
    "        weights_0_1 -= alpha * np.dot(layer_0.T, layer_1_delta)\n",
    "\n",
    "    if epoch % 10 == 9:\n",
    "        print(f'Prediction: {current_prediction}')\n",
    "        print(f'\\nCurrent Error: {layer_2_error}\\n')"
   ],
   "metadata": {
    "collapsed": false,
    "pycharm": {
     "name": "#%%\n"
    }
   }
  }
 ],
 "metadata": {
  "kernelspec": {
   "name": "python3",
   "language": "python",
   "display_name": "Python 3"
  },
  "language_info": {
   "codemirror_mode": {
    "name": "ipython",
    "version": 3
   },
   "file_extension": ".py",
   "mimetype": "text/x-python",
   "name": "python",
   "nbconvert_exporter": "python",
   "pygments_lexer": "ipython3",
   "version": "3.6.1"
  }
 },
 "nbformat": 4,
 "nbformat_minor": 2
}